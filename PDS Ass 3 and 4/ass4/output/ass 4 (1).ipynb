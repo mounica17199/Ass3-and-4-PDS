{
 "cells": [
  {
   "cell_type": "code",
   "execution_count": 1,
   "id": "4d995317",
   "metadata": {},
   "outputs": [],
   "source": [
    "import seaborn as sn\n",
    "import numpy as np\n",
    "import pandas as pd\n",
    "import statistics as st\n",
    "import random as rd\n",
    "import matplotlib.pyplot as plt\n",
    "import sklearn as sk"
   ]
  },
  {
   "cell_type": "code",
   "execution_count": 2,
   "id": "46240d5b",
   "metadata": {},
   "outputs": [],
   "source": [
    "np.random.seed(42)\n",
    "data=pd.read_csv('C:/Users/91830/Downloads/diabetes.csv')"
   ]
  },
  {
   "cell_type": "code",
   "execution_count": 3,
   "id": "7c0d2438",
   "metadata": {},
   "outputs": [
    {
     "name": "stdout",
     "output_type": "stream",
     "text": [
      "Original dataset:\n",
      "   Pregnancies  Glucose  BloodPressure  SkinThickness  Insulin   BMI  \\\n",
      "0            6      148             72             35        0  33.6   \n",
      "1            1       85             66             29        0  26.6   \n",
      "2            8      183             64              0        0  23.3   \n",
      "3            1       89             66             23       94  28.1   \n",
      "4            0      137             40             35      168  43.1   \n",
      "\n",
      "   DiabetesPedigreeFunction  Age  Outcome  \n",
      "0                     0.627   50        1  \n",
      "1                     0.351   31        0  \n",
      "2                     0.672   32        1  \n",
      "3                     0.167   21        0  \n",
      "4                     2.288   33        1  \n",
      "\n",
      "Missing values before cleaning:\n",
      "Pregnancies                 0\n",
      "Glucose                     0\n",
      "BloodPressure               0\n",
      "SkinThickness               0\n",
      "Insulin                     0\n",
      "BMI                         0\n",
      "DiabetesPedigreeFunction    0\n",
      "Age                         0\n",
      "Outcome                     0\n",
      "dtype: int64\n",
      "\n",
      "Number of duplicate rows: 0\n",
      "\n",
      "Missing values after cleaning:\n",
      "Pregnancies                   0\n",
      "Glucose                       5\n",
      "BloodPressure                35\n",
      "SkinThickness               227\n",
      "Insulin                     374\n",
      "BMI                          11\n",
      "DiabetesPedigreeFunction      0\n",
      "Age                           0\n",
      "Outcome                       0\n",
      "dtype: int64\n",
      "\n",
      "Cleaned dataset:\n",
      "   Pregnancies Glucose BloodPressure SkinThickness Insulin   BMI  \\\n",
      "0            6     148            72            35    <NA>  33.6   \n",
      "1            1      85            66            29    <NA>  26.6   \n",
      "2            8     183            64          <NA>    <NA>  23.3   \n",
      "3            1      89            66            23      94  28.1   \n",
      "4            0     137            40            35     168  43.1   \n",
      "\n",
      "   DiabetesPedigreeFunction  Age  Outcome  \n",
      "0                     0.627   50        1  \n",
      "1                     0.351   31        0  \n",
      "2                     0.672   32        1  \n",
      "3                     0.167   21        0  \n",
      "4                     2.288   33        1  \n"
     ]
    }
   ],
   "source": [
    "print(\"Original dataset:\")\n",
    "print(data.head())\n",
    "\n",
    "# Check for missing values\n",
    "print(\"\\nMissing values before cleaning:\")\n",
    "print(data.isnull().sum())\n",
    "\n",
    "# Handling missing values\n",
    "# Assuming missing values are represented by 0 for numerical attributes\n",
    "# Replace 0s with NaN for relevant columns\n",
    "columns_with_zeros_as_missing = [\"Glucose\", \"BloodPressure\", \"SkinThickness\", \"Insulin\", \"BMI\"]\n",
    "data[columns_with_zeros_as_missing] = data[columns_with_zeros_as_missing].replace(0, pd.NA)\n",
    "\n",
    "# Check for duplicates\n",
    "duplicate_rows = data.duplicated()\n",
    "print(\"\\nNumber of duplicate rows:\", duplicate_rows.sum())\n",
    "\n",
    "# Remove duplicate rows\n",
    "data = data.drop_duplicates()\n",
    "\n",
    "# Final check for missing values\n",
    "print(\"\\nMissing values after cleaning:\")\n",
    "print(data.isnull().sum())\n",
    "\n",
    "# Save cleaned data to a new CSV file\n",
    "data.to_csv(\"data_clean.csv\", index=False)\n",
    "\n",
    "# Display the first few rows of the cleaned dataset\n",
    "print(\"\\nCleaned dataset:\")\n",
    "print(data.head())\n"
   ]
  },
  {
   "cell_type": "code",
   "execution_count": 4,
   "id": "1bce11c0",
   "metadata": {},
   "outputs": [],
   "source": [
    "sample_population=data.sample(n= 25, random_state= 40)"
   ]
  },
  {
   "cell_type": "code",
   "execution_count": 5,
   "id": "ef4ffc45",
   "metadata": {},
   "outputs": [
    {
     "data": {
      "text/html": [
       "<div>\n",
       "<style scoped>\n",
       "    .dataframe tbody tr th:only-of-type {\n",
       "        vertical-align: middle;\n",
       "    }\n",
       "\n",
       "    .dataframe tbody tr th {\n",
       "        vertical-align: top;\n",
       "    }\n",
       "\n",
       "    .dataframe thead th {\n",
       "        text-align: right;\n",
       "    }\n",
       "</style>\n",
       "<table border=\"1\" class=\"dataframe\">\n",
       "  <thead>\n",
       "    <tr style=\"text-align: right;\">\n",
       "      <th></th>\n",
       "      <th>Pregnancies</th>\n",
       "      <th>Glucose</th>\n",
       "      <th>BloodPressure</th>\n",
       "      <th>SkinThickness</th>\n",
       "      <th>Insulin</th>\n",
       "      <th>BMI</th>\n",
       "      <th>DiabetesPedigreeFunction</th>\n",
       "      <th>Age</th>\n",
       "      <th>Outcome</th>\n",
       "    </tr>\n",
       "  </thead>\n",
       "  <tbody>\n",
       "    <tr>\n",
       "      <th>370</th>\n",
       "      <td>3</td>\n",
       "      <td>173</td>\n",
       "      <td>82</td>\n",
       "      <td>48</td>\n",
       "      <td>465</td>\n",
       "      <td>38.4</td>\n",
       "      <td>2.137</td>\n",
       "      <td>25</td>\n",
       "      <td>1</td>\n",
       "    </tr>\n",
       "    <tr>\n",
       "      <th>388</th>\n",
       "      <td>5</td>\n",
       "      <td>144</td>\n",
       "      <td>82</td>\n",
       "      <td>26</td>\n",
       "      <td>285</td>\n",
       "      <td>32.0</td>\n",
       "      <td>0.452</td>\n",
       "      <td>58</td>\n",
       "      <td>1</td>\n",
       "    </tr>\n",
       "    <tr>\n",
       "      <th>611</th>\n",
       "      <td>3</td>\n",
       "      <td>174</td>\n",
       "      <td>58</td>\n",
       "      <td>22</td>\n",
       "      <td>194</td>\n",
       "      <td>32.9</td>\n",
       "      <td>0.593</td>\n",
       "      <td>36</td>\n",
       "      <td>1</td>\n",
       "    </tr>\n",
       "    <tr>\n",
       "      <th>550</th>\n",
       "      <td>1</td>\n",
       "      <td>116</td>\n",
       "      <td>70</td>\n",
       "      <td>28</td>\n",
       "      <td>&lt;NA&gt;</td>\n",
       "      <td>27.4</td>\n",
       "      <td>0.204</td>\n",
       "      <td>21</td>\n",
       "      <td>0</td>\n",
       "    </tr>\n",
       "    <tr>\n",
       "      <th>232</th>\n",
       "      <td>1</td>\n",
       "      <td>79</td>\n",
       "      <td>80</td>\n",
       "      <td>25</td>\n",
       "      <td>37</td>\n",
       "      <td>25.4</td>\n",
       "      <td>0.583</td>\n",
       "      <td>22</td>\n",
       "      <td>0</td>\n",
       "    </tr>\n",
       "  </tbody>\n",
       "</table>\n",
       "</div>"
      ],
      "text/plain": [
       "     Pregnancies Glucose BloodPressure SkinThickness Insulin   BMI  \\\n",
       "370            3     173            82            48     465  38.4   \n",
       "388            5     144            82            26     285  32.0   \n",
       "611            3     174            58            22     194  32.9   \n",
       "550            1     116            70            28    <NA>  27.4   \n",
       "232            1      79            80            25      37  25.4   \n",
       "\n",
       "     DiabetesPedigreeFunction  Age  Outcome  \n",
       "370                     2.137   25        1  \n",
       "388                     0.452   58        1  \n",
       "611                     0.593   36        1  \n",
       "550                     0.204   21        0  \n",
       "232                     0.583   22        0  "
      ]
     },
     "execution_count": 5,
     "metadata": {},
     "output_type": "execute_result"
    }
   ],
   "source": [
    "sample_population.head()"
   ]
  },
  {
   "cell_type": "code",
   "execution_count": 6,
   "id": "2507396e",
   "metadata": {},
   "outputs": [
    {
     "name": "stdout",
     "output_type": "stream",
     "text": [
      "Mean Glucose value: 121.6867627785059\n"
     ]
    }
   ],
   "source": [
    "# Replace missing values (zeros) with NaN\n",
    "data.replace({'Glucose': {0: pd.NA}}, inplace=True)\n",
    "\n",
    "# Calculate the mean of non-missing values\n",
    "glucose_mean = data['Glucose'].mean()\n",
    "\n",
    "print(\"Mean Glucose value:\", glucose_mean)"
   ]
  },
  {
   "cell_type": "code",
   "execution_count": 7,
   "id": "1f549856",
   "metadata": {},
   "outputs": [
    {
     "name": "stdout",
     "output_type": "stream",
     "text": [
      "Maximum Glucose value: 199\n"
     ]
    }
   ],
   "source": [
    "# Drop missing values\n",
    "data.dropna(subset=['Glucose'], inplace=True)\n",
    "\n",
    "# Calculate the maximum value\n",
    "glucose_max = data['Glucose'].max()\n",
    "\n",
    "print(\"Maximum Glucose value:\", glucose_max)"
   ]
  },
  {
   "cell_type": "code",
   "execution_count": 8,
   "id": "d068e52d",
   "metadata": {},
   "outputs": [
    {
     "name": "stdout",
     "output_type": "stream",
     "text": [
      "121.6867627785059\n"
     ]
    }
   ],
   "source": [
    "population_mean=st.mean(data.loc[:,\"Glucose\"])\n",
    "print(population_mean)"
   ]
  },
  {
   "cell_type": "code",
   "execution_count": 9,
   "id": "270b11b5",
   "metadata": {},
   "outputs": [
    {
     "name": "stdout",
     "output_type": "stream",
     "text": [
      "199\n"
     ]
    }
   ],
   "source": [
    "population_max=max(data.loc[:,\"Glucose\"])\n",
    "print(population_max)"
   ]
  },
  {
   "cell_type": "code",
   "execution_count": 10,
   "id": "0e774aa5",
   "metadata": {},
   "outputs": [
    {
     "data": {
      "image/png": "[encoded data removed]",
      "text/plain": [
       "<Figure size 640x480 with 1 Axes>"
      ]
     },
     "metadata": {},
     "output_type": "display_data"
    }
   ],
   "source": [
    "# Define data\n",
    "categories = ['glucose_mean', 'glucose_max', 'population_mean', 'population_max']\n",
    "values = [glucose_mean, glucose_max, population_mean, population_max]\n",
    "colors = ['blue', 'blue', 'blue', 'blue']  # Assigning blue color to all bars\n",
    "\n",
    "# Create bar plot\n",
    "plt.bar(categories, values, color=colors)\n",
    "\n",
    "# Add labels and title\n",
    "plt.ylabel('Glucose values')\n",
    "plt.title('Comparison of Glucose Statistics between Sample and Population')\n",
    "\n",
    "# Display plot\n",
    "plt.show()\n"
   ]
  },
  {
   "cell_type": "markdown",
   "id": "c74075e2",
   "metadata": {},
   "source": [
    "# b) Find the 98th percentile of BMI of your sample and the population and compare the results using charts."
   ]
  },
  {
   "cell_type": "code",
   "execution_count": 11,
   "id": "cc847604",
   "metadata": {},
   "outputs": [],
   "source": [
    "df=pd.DataFrame(data)"
   ]
  },
  {
   "cell_type": "code",
   "execution_count": 12,
   "id": "6a40eeb9",
   "metadata": {},
   "outputs": [
    {
     "name": "stdout",
     "output_type": "stream",
     "text": [
      "98th Percentile BMI for Sample: 47.40399999999999\n",
      "98th Percentile BMI for Population: 47.87800000000002\n"
     ]
    }
   ],
   "source": [
    "sample_population.replace({'BMI': {0: np.nan}}, inplace=True)\n",
    "\n",
    "# Drop rows with missing values\n",
    "sample_population.dropna(subset=['BMI'], inplace=True)\n",
    "\n",
    "# Calculate the 98th percentile of the 'BMI' column for the sample population\n",
    "sample_percentile = np.percentile(sample_population['BMI'], 98)\n",
    "\n",
    "# Assuming `df` is your original dataframe containing the population data\n",
    "# Replace missing values with NaN in the original dataframe\n",
    "df.replace({'BMI': {0: np.nan}}, inplace=True)\n",
    "\n",
    "# Drop rows with missing values in the original dataframe\n",
    "df.dropna(subset=['BMI'], inplace=True)\n",
    "\n",
    "# Calculate the 98th percentile of the 'BMI' column for the population\n",
    "population_percentile = np.percentile(df['BMI'], 98)\n",
    "\n",
    "print(f\"98th Percentile BMI for Sample: {sample_percentile}\")\n",
    "print(f\"98th Percentile BMI for Population: {population_percentile}\")"
   ]
  },
  {
   "cell_type": "code",
   "execution_count": 13,
   "id": "b6886ae9",
   "metadata": {},
   "outputs": [
    {
     "name": "stdout",
     "output_type": "stream",
     "text": [
      "98th Percentile BMI for Sample: 47.40399999999999\n",
      "98th Percentile BMI for Population: 47.87800000000002\n"
     ]
    }
   ],
   "source": [
    "print(f\"98th Percentile BMI for Sample: {sample_percentile}\")\n",
    "print(f\"98th Percentile BMI for Population: {population_percentile}\")"
   ]
  },
  {
   "cell_type": "code",
   "execution_count": 14,
   "id": "1ed6206c",
   "metadata": {},
   "outputs": [
    {
     "data": {
      "image/png": "[encoded data removed]",
      "text/plain": [
       "<Figure size 640x480 with 1 Axes>"
      ]
     },
     "metadata": {},
     "output_type": "display_data"
    }
   ],
   "source": [
    "# Define data\n",
    "categories = ['Sample 98th Percentile', 'Population 98th Percentile']\n",
    "values = [sample_percentile, population_percentile]\n",
    "\n",
    "# Create bar plot\n",
    "plt.bar(categories, values)\n",
    "\n",
    "# Add labels and title\n",
    "plt.ylabel('BMI Values')\n",
    "plt.title('Comparison of 98th Percentile BMI between Sample and Population')\n",
    "\n",
    "# Display plot\n",
    "plt.show()\n"
   ]
  },
  {
   "cell_type": "markdown",
   "id": "534f729b",
   "metadata": {},
   "source": [
    "# c) Using bootstrap (replace= True), create 500 samples (of 150 observation each) from the\n",
    "population and find the average mean, standard deviation and percentile for BloodPressure and\n",
    "compare this with these statistics from the population for the same variable. Again, you should\n",
    "create charts for this comparison. Report on your findings."
   ]
  },
  {
   "cell_type": "code",
   "execution_count": 15,
   "id": "4701b03f",
   "metadata": {},
   "outputs": [
    {
     "name": "stdout",
     "output_type": "stream",
     "text": [
      "Number of missing values in 'BloodPressure' column: 28\n"
     ]
    }
   ],
   "source": [
    "# Check for missing values in the 'BloodPressure' column\n",
    "missing_values_count = df['BloodPressure'].isnull().sum()\n",
    "print(\"Number of missing values in 'BloodPressure' column:\", missing_values_count)\n",
    "\n",
    "# Drop missing values\n",
    "df.dropna(subset=['BloodPressure'], inplace=True)\n"
   ]
  },
  {
   "cell_type": "code",
   "execution_count": 16,
   "id": "8330b6a1",
   "metadata": {},
   "outputs": [],
   "source": [
    "np.random.seed(42)"
   ]
  },
  {
   "cell_type": "code",
   "execution_count": 17,
   "id": "7e85a031",
   "metadata": {},
   "outputs": [],
   "source": [
    "num_samples = 1000\n",
    "sample_size = len(df)"
   ]
  },
  {
   "cell_type": "code",
   "execution_count": 18,
   "id": "9b288da2",
   "metadata": {},
   "outputs": [],
   "source": [
    "bootstrap_means = np.zeros(num_samples)\n",
    "bootstrap_stds = np.zeros(num_samples)\n",
    "bootstrap_percentiles = np.zeros(num_samples)"
   ]
  },
  {
   "cell_type": "code",
   "execution_count": 19,
   "id": "26fb64f4",
   "metadata": {},
   "outputs": [],
   "source": [
    "for i in range(num_samples):\n",
    "    bootstrap_sample = np.random.choice(df['BloodPressure'], size=sample_size, replace=True)\n",
    "    bootstrap_means[i] = np.mean(bootstrap_sample)\n",
    "    bootstrap_stds[i] = np.std(bootstrap_sample)\n",
    "    bootstrap_percentiles[i] = np.percentile(bootstrap_sample, 95)\n"
   ]
  },
  {
   "cell_type": "code",
   "execution_count": 20,
   "id": "6868d437",
   "metadata": {},
   "outputs": [],
   "source": [
    "population_mean = np.mean(df['BloodPressure'])\n",
    "population_std = np.std(df['BloodPressure'])\n",
    "population_percentile = np.percentile(df['BloodPressure'], 95)"
   ]
  },
  {
   "cell_type": "code",
   "execution_count": 21,
   "id": "ec0b4bc7",
   "metadata": {},
   "outputs": [
    {
     "name": "stdout",
     "output_type": "stream",
     "text": [
      "Population Mean BloodPressure: 72.40055248618785\n",
      "Population Standard Deviation BloodPressure: 12.37131773325663\n",
      "Population 95th Percentile BloodPressure: 91.70000000000005\n"
     ]
    }
   ],
   "source": [
    "print(f\"Population Mean BloodPressure: {population_mean}\")\n",
    "print(f\"Population Standard Deviation BloodPressure: {population_std}\")\n",
    "print(f\"Population 95th Percentile BloodPressure: {population_percentile}\")"
   ]
  },
  {
   "cell_type": "code",
   "execution_count": 22,
   "id": "3d4c41d3",
   "metadata": {},
   "outputs": [
    {
     "data": {
      "image/png": "[encoded data removed]",
      "text/plain": [
       "<Figure size 1200x600 with 1 Axes>"
      ]
     },
     "metadata": {},
     "output_type": "display_data"
    }
   ],
   "source": [
    "# Set the size of the figure\n",
    "plt.figure(figsize=(12, 6))\n",
    "\n",
    "# Plot the histogram\n",
    "n, bins, patches = plt.hist(bootstrap_means, bins=30, color='pink', alpha=0.7)\n",
    "\n",
    "# Add a vertical line for the population mean\n",
    "plt.plot([population_mean, population_mean], [0, max(n)], color='green', linewidth=2)\n",
    "\n",
    "# Add title\n",
    "plt.title('Bootstrap Means vs Population Mean')\n",
    "\n",
    "# Show plot\n",
    "plt.show()\n"
   ]
  },
  {
   "cell_type": "code",
   "execution_count": 23,
   "id": "56b29b36",
   "metadata": {},
   "outputs": [
    {
     "data": {
      "image/png": "[encoded data removed]",
      "text/plain": [
       "<Figure size 640x480 with 1 Axes>"
      ]
     },
     "metadata": {},
     "output_type": "display_data"
    }
   ],
   "source": [
    "# Plot the histogram with a different color\n",
    "plt.hist(bootstrap_stds, bins=30, color='orange', alpha=0.7)\n",
    "\n",
    "# Add a vertical line for the population standard deviation with a different color\n",
    "plt.axvline(population_std, color='blue', linewidth=2)\n",
    "\n",
    "# Add title\n",
    "plt.title('Bootstrap Standard Deviations vs Population Standard Deviation')\n",
    "\n",
    "# Show plot\n",
    "plt.show()\n"
   ]
  },
  {
   "cell_type": "code",
   "execution_count": 24,
   "id": "78deeb34",
   "metadata": {},
   "outputs": [
    {
     "data": {
      "image/png": "[encoded data removed]",
      "text/plain": [
       "<Figure size 640x480 with 1 Axes>"
      ]
     },
     "metadata": {},
     "output_type": "display_data"
    }
   ],
   "source": [
    "# Plot the histogram with a different color\n",
    "plt.hist(bootstrap_percentiles, bins=30, color='blue', alpha=0.7)\n",
    "\n",
    "# Add a vertical line for the population percentile with a different color and linestyle\n",
    "plt.axvline(population_percentile, color='red', linestyle='dashed', linewidth=2)\n",
    "\n",
    "# Add title\n",
    "plt.title('Bootstrap 95th Percentiles vs Population 95th Percentile')\n",
    "\n",
    "# Show plot\n",
    "plt.show()\n"
   ]
  },
  {
   "cell_type": "raw",
   "id": "c6cfe739",
   "metadata": {},
   "source": [
    "#Here are the findings based on the output:\n",
    "\n",
    "a) Comparison of Glucose Statistics between Sample and Population:\n",
    "\n",
    "Mean Glucose value:\n",
    "Sample: 121.69 mg/dL\n",
    "Population: 121.69 mg/dL\n",
    "Maximum Glucose value:\n",
    "Sample: 199 mg/dL\n",
    "Population: 199 mg/dL\n",
    "The mean and maximum glucose values of the sample closely match those of the population, indicating that the sample is representative.\n",
    "b) Comparison of 98th Percentile BMI between Sample and Population:\n",
    "\n",
    "98th Percentile BMI:\n",
    "Sample: 47.40\n",
    "Population: 47.88\n",
    "The 98th percentile BMI of the sample is slightly lower than that of the population, suggesting that the sample may have a slightly lower maximum BMI.\n",
    "c) Comparison of Bootstrap Statistics for BloodPressure with Population Statistics:\n",
    "\n",
    "Population Mean BloodPressure: 72.40 mmHg\n",
    "Population Standard Deviation BloodPressure: 12.37 mmHg\n",
    "Population 95th Percentile BloodPressure: 91.70 mmHg\n",
    "The histograms show the distribution of bootstrap means, standard deviations, and 95th percentiles of BloodPressure compared to the population statistics. The bootstrap statistics closely resemble the population statistics, indicating that the bootstrap samples are representative of the population.\n",
    "Overall, the sample and bootstrap statistics closely align with the population statistics, suggesting that the sample and bootstrap samples are representative of the population."
   ]
  },
  {
   "cell_type": "code",
   "execution_count": null,
   "id": "20731912",
   "metadata": {},
   "outputs": [],
   "source": []
  }
 ],
 "metadata": {
  "kernelspec": {
   "display_name": "Python 3 (ipykernel)",
   "language": "python",
   "name": "python3"
  },
  "language_info": {
   "codemirror_mode": {
    "name": "ipython",
    "version": 3
   },
   "file_extension": ".py",
   "mimetype": "text/x-python",
   "name": "python",
   "nbconvert_exporter": "python",
   "pygments_lexer": "ipython3",
   "version": "3.11.5"
  }
 },
 "nbformat": 4,
 "nbformat_minor": 5
}
